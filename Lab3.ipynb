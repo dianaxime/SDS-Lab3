{
 "cells": [
  {
   "cell_type": "code",
   "execution_count": 1,
   "id": "9b04fdb4",
   "metadata": {},
   "outputs": [],
   "source": [
    "malware = []\n",
    "std_sections = ['.text', '.bss', '.rdata', '.data', '.rsrc', '.edata', '.idata', \\\n",
    "                        '.pdata', '.debug', '.reloc', '.stab', '.stabstr', '.tls', \\\n",
    "                        '.crt', '.gnu_deb', '.eh_fram', '.exptbl', '.rodata']"
   ]
  },
  {
   "cell_type": "code",
   "execution_count": 11,
   "id": "a4f43cde",
   "metadata": {},
   "outputs": [
    {
     "name": "stdout",
     "output_type": "stream",
     "text": [
      "FILE NAME, SECTION NAME, HEX VIRTUAL ADDRESS, HEX SECTION VIRTUAL SIZE, SIZE OF RAW DATA, DLLS, FUNCTION CALLS\n",
      "\n",
      "1F2EB7B090018D975E6D9B40868C94CA,b'.rsrc\\x00\\x00\\x00',0x7000,0x1000,512,[b'KERNEL32.DLL', b'MSVCRT.dll', b'USER32.dll', b'WS2_32.dll'],[b'LoadLibraryA', b'ExitProcess', b'GetProcAddress', b'VirtualProtect', b'atol', b'LoadStringA', b'send']\n",
      "\n",
      "B07322743778B5868475DBE66EEDAC4F,b'.rsrc\\x00\\x00\\x00',0x7000,0x1000,512,[b'KERNEL32.DLL', b'MSVCRT.dll', b'USER32.dll', b'WS2_32.dll'],[b'LoadLibraryA', b'ExitProcess', b'GetProcAddress', b'VirtualProtect', b'atol', b'LoadStringA', b'send']\n",
      "\n",
      "GBV66_8F259BB36E00D124963CFA9B86F502E,b'.data\\x00\\x00\\x00',0x5000,0x3d2488,1536,[b'KERNEL32.dll', b'USER32.dll', b'ADVAPI32.dll', b'SHELL32.dll', b'MSVCRT.dll', b'WININET.dll', b'WS2_32.dll'],[b'CreateFileA', b'LocalAlloc', b'Sleep', b'CreateThread', b'CreateMutexA', b'CopyFileW', b'GetFileSize', b'CreateProcessA', b'GetEnvironmentVariableW', b'GetShortPathNameW', b'GetStartupInfoA', b'GetModuleHandleA', b'ReadFile', b'LocalFree', b'GetLastError', b'GetModuleFileNameW', b'CloseHandle', b'SendMessageA', b'FindWindowExA', b'RegQueryValueExA', b'RegCloseKey', b'RegSetValueExW', b'RegOpenKeyExA', b'SHGetSpecialFolderPathW', b'ShellExecuteW', b'_controlfp', b'_except_handler3', b'__set_app_type', b'memset', b'__CxxFrameHandler', b'strlen', b'sprintf', b'memcpy', b'strcpy', b'strcat', b'_mbsnbcpy', b'_mbsnbcmp', b'atol', b'_mbscmp', b'atoi', b'fclose', b'fwrite', b'fopen', b'strstr', b'wcslen', b'wcstombs', b'setlocale', b'wcscmp', b'wcscat', b'mbstowcs', b'wcsrchr', b'wcscpy', b'getenv', b'strcmp', b'time', b'free', b'__dllonexit', b'_onexit', b'_exit', b'_XcptFilter', b'exit', b'_acmdln', b'__getmainargs', b'_initterm', b'__setusermatherr', b'_adjust_fdiv', b'__p__commode', b'__p__fmode', b'_strnicmp', b'HttpAddRequestHeadersA', b'HttpOpenRequestA', b'HttpEndRequestA', b'InternetWriteFile', b'HttpSendRequestA', b'InternetReadFile', b'HttpQueryInfoA', b'InternetAttemptConnect', b'InternetCloseHandle', b'InternetConnectA', b'InternetOpenA', b'HttpSendRequestExA', b'gethostbyname', b'inet_ntoa', b'WSAStartup', b'gethostname']\n",
      "\n",
      "POL55_A4F1ECC4D25B33395196B5D51A06790,b'.data\\x00\\x00\\x00',0x5000,0x3d2468,1536,[b'KERNEL32.dll', b'USER32.dll', b'ADVAPI32.dll', b'SHELL32.dll', b'MSVCRT.dll', b'WININET.dll', b'WS2_32.dll'],[b'CreateFileA', b'LocalAlloc', b'Sleep', b'CreateThread', b'CreateMutexA', b'CopyFileW', b'GetFileSize', b'CreateProcessA', b'GetEnvironmentVariableW', b'GetShortPathNameW', b'GetStartupInfoA', b'GetModuleHandleA', b'ReadFile', b'LocalFree', b'GetLastError', b'GetModuleFileNameW', b'CloseHandle', b'SendMessageA', b'FindWindowExA', b'RegQueryValueExA', b'RegCloseKey', b'RegSetValueExW', b'RegOpenKeyExA', b'SHGetSpecialFolderPathW', b'ShellExecuteW', b'_controlfp', b'_except_handler3', b'__set_app_type', b'memset', b'__CxxFrameHandler', b'strlen', b'sprintf', b'memcpy', b'strcpy', b'strcat', b'_mbsnbcpy', b'_mbsnbcmp', b'atol', b'_mbscmp', b'atoi', b'fclose', b'fwrite', b'fopen', b'strstr', b'wcslen', b'wcstombs', b'setlocale', b'wcscmp', b'wcscat', b'mbstowcs', b'wcsrchr', b'wcscpy', b'getenv', b'strcmp', b'time', b'free', b'__dllonexit', b'_onexit', b'_exit', b'_XcptFilter', b'exit', b'_acmdln', b'__getmainargs', b'_initterm', b'__setusermatherr', b'_adjust_fdiv', b'__p__commode', b'__p__fmode', b'_strnicmp', b'HttpAddRequestHeadersA', b'HttpOpenRequestA', b'HttpEndRequestA', b'InternetWriteFile', b'HttpSendRequestA', b'InternetReadFile', b'HttpQueryInfoA', b'InternetAttemptConnect', b'InternetCloseHandle', b'InternetConnectA', b'InternetOpenA', b'HttpSendRequestExA', b'gethostbyname', b'inet_ntoa', b'WSAStartup', b'gethostname']\n",
      "\n",
      "33DE5067A433A6EC5C328067DC18EC37,b'.rsrc\\x00\\x00\\x00',0x7000,0x1000,512,[b'KERNEL32.DLL', b'MSVCRT.dll', b'SHELL32.dll', b'USER32.dll', b'WS2_32.dll'],[b'LoadLibraryA', b'ExitProcess', b'GetProcAddress', b'VirtualProtect', b'atol', b'SHChangeNotify', b'LoadStringA', b'closesocket']\n",
      "\n",
      "B98hX8E8622C393D7E832D39E620EAD5D3B49,b'UPX2\\x00\\x00\\x00\\x00',0x97000,0x1000,512,[b'ADVAPI32.dll', b'GDI32.dll', b'KERNEL32.DLL', b'MSVCRT.dll', b'NETAPI32.dll', b'PSAPI.DLL', b'USER32.dll', b'WS2_32.dll'],[b'RegSaveKeyA', b'BitBlt', b'LoadLibraryA', b'ExitProcess', b'GetProcAddress', b'VirtualProtect', b'_iob', b'Netbios', b'EnumProcessModules', b'GetDC', b'send']\n",
      "\n",
      "GFT4_7DDD3D72EAD03C7518F5D47650C8572,b'.rsrc\\x00\\x00\\x00',0x3d8000,0x408,1536,[b'KERNEL32.dll', b'USER32.dll', b'ADVAPI32.dll', b'MSVCRT.dll', b'WININET.dll', b'WS2_32.dll'],[b'GetModuleHandleA', b'GetWindowsDirectoryA', b'GetModuleFileNameA', b'CopyFileA', b'OutputDebugStringA', b'CreateProcessA', b'CreateMutexA', b'CreateThread', b'Sleep', b'LocalAlloc', b'CreateFileA', b'GetFileSize', b'ReadFile', b'LocalFree', b'GetLastError', b'GetStartupInfoA', b'CloseHandle', b'SendMessageA', b'FindWindowExA', b'OpenSCManagerA', b'CreateServiceA', b'ChangeServiceConfig2A', b'OpenServiceA', b'CloseServiceHandle', b'StartServiceA', b'QueryServiceStatus', b'RegisterServiceCtrlHandlerA', b'SetServiceStatus', b'StartServiceCtrlDispatcherA', b'RegOpenKeyExA', b'RegQueryValueExA', b'RegCloseKey', b'_controlfp', b'memset', b'__CxxFrameHandler', b'strlen', b'sprintf', b'memcpy', b'strcpy', b'strcat', b'_mbsnbcpy', b'_mbsnbcmp', b'atol', b'_mbscmp', b'atoi', b'fclose', b'fwrite', b'fopen', b'strstr', b'getenv', b'strcmp', b'time', b'printf', b'free', b'__dllonexit', b'_onexit', b'_exit', b'_XcptFilter', b'exit', b'_acmdln', b'__getmainargs', b'_initterm', b'__setusermatherr', b'_adjust_fdiv', b'__p__commode', b'__p__fmode', b'__set_app_type', b'_except_handler3', b'_strnicmp', b'HttpAddRequestHeadersA', b'HttpOpenRequestA', b'HttpEndRequestA', b'InternetWriteFile', b'HttpSendRequestExA', b'InternetReadFile', b'HttpSendRequestA', b'InternetCloseHandle', b'InternetOpenA', b'InternetAttemptConnect', b'InternetConnectA', b'HttpQueryInfoA', b'gethostbyname', b'inet_ntoa', b'WSAStartup', b'gethostname']\n",
      "\n",
      "QW2_4C6BDDCCA2695D6202DF38708E14FC7E,b'.rsrc\\x00\\x00\\x00',0xa8000,0x1000,2048,[b'ADVAPI32.dll', b'GDI32.dll', b'KERNEL32.DLL', b'MSVCRT.dll', b'NETAPI32.dll', b'PSAPI.DLL', b'USER32.dll', b'WS2_32.dll'],[b'RegSaveKeyA', b'BitBlt', b'LoadLibraryA', b'GetProcAddress', b'VirtualProtect', b'_iob', b'Netbios', b'EnumProcessModules', b'GetDC', b'WSASetLastError']\n",
      "\n",
      "65018CD542145A3792BA09985734C12A,b'.rsrc\\x00\\x00\\x00',0x7000,0x1000,512,[b'KERNEL32.DLL', b'MSVCRT.dll', b'SHELL32.dll', b'USER32.dll', b'WS2_32.dll'],[b'LoadLibraryA', b'ExitProcess', b'GetProcAddress', b'VirtualProtect', b'atol', b'SHChangeNotify', b'LoadStringA', b'closesocket']\n",
      "\n",
      "BVJ2D9FBF759F527AF373E34673DC3ACA462,b'.rsrc\\x00\\x00\\x00',0x7000,0x1000,512,[b'KERNEL32.DLL', b'MSVCRT.dll', b'SHELL32.dll', b'USER32.dll', b'WS2_32.dll'],[b'LoadLibraryA', b'ExitProcess', b'GetProcAddress', b'VirtualProtect', b'atol', b'SHChangeNotify', b'LoadStringA', b'closesocket']\n",
      "\n",
      "HJGQDD892986B2249B5214639ECC8AC0223,b'.rsrc\\x00\\x00\\x00',0x7000,0x1000,512,[b'KERNEL32.DLL', b'MSVCRT.dll', b'SHELL32.dll', b'USER32.dll', b'WS2_32.dll'],[b'LoadLibraryA', b'ExitProcess', b'GetProcAddress', b'VirtualProtect', b'atol', b'SHChangeNotify', b'LoadStringA', b'closesocket']\n",
      "\n",
      "RTC_7F85D7F628CE62D1D8F7B39D8940472,b'.rsrc\\x00\\x00\\x00',0x1f3000,0x1000,1536,[b'KERNEL32.DLL', b'MSVCRT.dll', b'SHELL32.dll', b'WININET.dll', b'WS2_32.dll'],[b'LoadLibraryA', b'ExitProcess', b'GetProcAddress', b'VirtualProtect', b'_iob', b'ShellExecuteA', b'InternetOpenA', b'inet_ntoa']\n",
      "\n",
      "650A6FCA433EE243391E4B4C11F09438,b'.rsrc\\x00\\x00\\x00',0x7000,0x1000,512,[b'KERNEL32.DLL', b'MSVCRT.dll', b'SHELL32.dll', b'USER32.dll', b'WS2_32.dll'],[b'LoadLibraryA', b'ExitProcess', b'GetProcAddress', b'VirtualProtect', b'atol', b'SHChangeNotify', b'LoadStringA', b'closesocket']\n",
      "\n",
      "DS22_A670D13D4D014169C4080328B8FEB86,b'.data\\x00\\x00\\x00',0x5000,0x3d2468,1536,[b'KERNEL32.dll', b'USER32.dll', b'ADVAPI32.dll', b'SHELL32.dll', b'MSVCRT.dll', b'WININET.dll', b'WS2_32.dll'],[b'CreateFileA', b'LocalAlloc', b'Sleep', b'CreateThread', b'CreateMutexA', b'CopyFileW', b'GetFileSize', b'CreateProcessA', b'GetEnvironmentVariableW', b'GetShortPathNameW', b'GetStartupInfoA', b'GetModuleHandleA', b'ReadFile', b'LocalFree', b'GetLastError', b'GetModuleFileNameW', b'CloseHandle', b'SendMessageA', b'FindWindowExA', b'RegQueryValueExA', b'RegCloseKey', b'RegSetValueExW', b'RegOpenKeyExA', b'SHGetSpecialFolderPathW', b'ShellExecuteW', b'_controlfp', b'_except_handler3', b'__set_app_type', b'memset', b'__CxxFrameHandler', b'strlen', b'sprintf', b'memcpy', b'strcpy', b'strcat', b'_mbsnbcpy', b'_mbsnbcmp', b'atol', b'_mbscmp', b'atoi', b'fclose', b'fwrite', b'fopen', b'strstr', b'wcslen', b'wcstombs', b'setlocale', b'wcscmp', b'wcscat', b'mbstowcs', b'wcsrchr', b'wcscpy', b'getenv', b'strcmp', b'time', b'free', b'__dllonexit', b'_onexit', b'_exit', b'_XcptFilter', b'exit', b'_acmdln', b'__getmainargs', b'_initterm', b'__setusermatherr', b'_adjust_fdiv', b'__p__commode', b'__p__fmode', b'_strnicmp', b'HttpAddRequestHeadersA', b'HttpOpenRequestA', b'HttpEndRequestA', b'InternetWriteFile', b'HttpSendRequestA', b'InternetReadFile', b'HttpQueryInfoA', b'InternetAttemptConnect', b'InternetCloseHandle', b'InternetConnectA', b'InternetOpenA', b'HttpSendRequestExA', b'gethostbyname', b'inet_ntoa', b'WSAStartup', b'gethostname']\n",
      "\n",
      "JH78C0A33A1B472A8C16123FD696A5CE5EBB,b'.rsrc\\x00\\x00\\x00',0x7000,0x1000,512,[b'KERNEL32.DLL', b'MSVCRT.dll', b'SHELL32.dll', b'USER32.dll', b'WS2_32.dll'],[b'LoadLibraryA', b'ExitProcess', b'GetProcAddress', b'VirtualProtect', b'atol', b'SHChangeNotify', b'LoadStringA', b'closesocket']\n",
      "\n",
      "SAM_B659D71AE168E774FAAF38DB30F4A84,b'.data\\x00\\x00\\x00',0x5000,0x3d2468,1536,[b'KERNEL32.dll', b'USER32.dll', b'ADVAPI32.dll', b'SHELL32.dll', b'MSVCRT.dll', b'WININET.dll', b'WS2_32.dll'],[b'CreateFileA', b'LocalAlloc', b'Sleep', b'CreateThread', b'CreateMutexA', b'CopyFileW', b'GetFileSize', b'CreateProcessA', b'GetEnvironmentVariableW', b'GetShortPathNameW', b'GetStartupInfoA', b'GetModuleHandleA', b'ReadFile', b'LocalFree', b'GetLastError', b'GetModuleFileNameW', b'CloseHandle', b'SendMessageA', b'FindWindowExA', b'RegQueryValueExA', b'RegCloseKey', b'RegSetValueExW', b'RegOpenKeyExA', b'SHGetSpecialFolderPathW', b'ShellExecuteW', b'_controlfp', b'_except_handler3', b'__set_app_type', b'memset', b'__CxxFrameHandler', b'strlen', b'sprintf', b'memcpy', b'strcpy', b'strcat', b'_mbsnbcpy', b'_mbsnbcmp', b'atol', b'_mbscmp', b'atoi', b'fclose', b'fwrite', b'fopen', b'strstr', b'wcslen', b'wcstombs', b'setlocale', b'wcscmp', b'wcscat', b'mbstowcs', b'wcsrchr', b'wcscpy', b'getenv', b'strcmp', b'time', b'free', b'__dllonexit', b'_onexit', b'_exit', b'_XcptFilter', b'exit', b'_acmdln', b'__getmainargs', b'_initterm', b'__setusermatherr', b'_adjust_fdiv', b'__p__commode', b'__p__fmode', b'_strnicmp', b'HttpAddRequestHeadersA', b'HttpOpenRequestA', b'HttpEndRequestA', b'InternetWriteFile', b'HttpSendRequestA', b'InternetReadFile', b'HttpQueryInfoA', b'InternetAttemptConnect', b'InternetCloseHandle', b'InternetConnectA', b'InternetOpenA', b'HttpSendRequestExA', b'gethostbyname', b'inet_ntoa', b'WSAStartup', b'gethostname']\n",
      "\n",
      "6FAA4740F99408D4D2DDDD0B09BBDEFD,b'.rsrc\\x00\\x00\\x00',0x7000,0x1000,512,[b'KERNEL32.DLL', b'MSVCRT.dll', b'SHELL32.dll', b'USER32.dll', b'WS2_32.dll'],[b'LoadLibraryA', b'ExitProcess', b'GetProcAddress', b'VirtualProtect', b'atol', b'SHChangeNotify', b'LoadStringA', b'closesocket']\n",
      "\n",
      "EEE99EC8AA67B05407C01094184C33D2B5A44,b'.rsrc\\x00\\x00\\x00',0x7000,0x1000,512,[b'KERNEL32.DLL', b'MSVCRT.dll', b'USER32.dll', b'WS2_32.dll'],[b'LoadLibraryA', b'ExitProcess', b'GetProcAddress', b'VirtualProtect', b'atol', b'LoadStringA', b'send']\n",
      "\n",
      "JKK8CA6FE7A1315AF5AFEAC2961460A80569,b'.rsrc\\x00\\x00\\x00',0x7000,0x1000,512,[b'KERNEL32.DLL', b'MSVCRT.dll', b'SHELL32.dll', b'USER32.dll', b'WS2_32.dll'],[b'LoadLibraryA', b'ExitProcess', b'GetProcAddress', b'VirtualProtect', b'atol', b'SHChangeNotify', b'LoadStringA', b'closesocket']\n",
      "\n",
      "785003A405BC7A4EBCBB21DDB757BF3F,b'.rsrc\\x00\\x00\\x00',0x7000,0x1000,512,[b'KERNEL32.DLL', b'MSVCRT.dll', b'SHELL32.dll', b'USER32.dll', b'WS2_32.dll'],[b'LoadLibraryA', b'ExitProcess', b'GetProcAddress', b'VirtualProtect', b'atol', b'SHChangeNotify', b'LoadStringA', b'closesocket']\n",
      "\n",
      "F6655E39465C2FF5B016980D918EA028,b'.rsrc\\x00\\x00\\x00',0x7000,0x1000,512,[b'KERNEL32.DLL', b'MSVCRT.dll', b'USER32.dll', b'WS2_32.dll'],[b'LoadLibraryA', b'ExitProcess', b'GetProcAddress', b'VirtualProtect', b'atol', b'LoadStringA', b'send']\n",
      "\n",
      "K99_C3A9A7B026BFE0E55FF219FD6AA7D94,b'.data\\x00\\x00\\x00',0x5000,0x3d2468,1536,[b'KERNEL32.dll', b'USER32.dll', b'ADVAPI32.dll', b'SHELL32.dll', b'MSVCRT.dll', b'WININET.dll', b'WS2_32.dll'],[b'CreateFileA', b'LocalAlloc', b'Sleep', b'CreateThread', b'CreateMutexA', b'CopyFileW', b'GetFileSize', b'CreateProcessA', b'GetEnvironmentVariableW', b'GetShortPathNameW', b'GetStartupInfoA', b'GetModuleHandleA', b'ReadFile', b'LocalFree', b'GetLastError', b'GetModuleFileNameW', b'CloseHandle', b'SendMessageA', b'FindWindowExA', b'RegQueryValueExA', b'RegCloseKey', b'RegSetValueExW', b'RegOpenKeyExA', b'SHGetSpecialFolderPathW', b'ShellExecuteW', b'_controlfp', b'_except_handler3', b'__set_app_type', b'memset', b'__CxxFrameHandler', b'strlen', b'sprintf', b'memcpy', b'strcpy', b'strcat', b'_mbsnbcpy', b'_mbsnbcmp', b'atol', b'_mbscmp', b'atoi', b'fclose', b'fwrite', b'fopen', b'strstr', b'wcslen', b'wcstombs', b'setlocale', b'wcscmp', b'wcscat', b'mbstowcs', b'wcsrchr', b'wcscpy', b'getenv', b'strcmp', b'time', b'free', b'__dllonexit', b'_onexit', b'_exit', b'_XcptFilter', b'exit', b'_acmdln', b'__getmainargs', b'_initterm', b'__setusermatherr', b'_adjust_fdiv', b'__p__commode', b'__p__fmode', b'_strnicmp', b'HttpAddRequestHeadersA', b'HttpOpenRequestA', b'HttpEndRequestA', b'InternetWriteFile', b'HttpSendRequestA', b'InternetReadFile', b'HttpQueryInfoA', b'InternetAttemptConnect', b'InternetCloseHandle', b'InternetConnectA', b'InternetOpenA', b'HttpSendRequestExA', b'gethostbyname', b'inet_ntoa', b'WSAStartup', b'gethostname']\n",
      "\n",
      "TG78Z__727A6800991EEAD454E53E8AF164A99C,b'UPX2\\x00\\x00\\x00\\x00',0xbe000,0x1000,1024,[b'ADVAPI32.dll', b'GDI32.dll', b'KERNEL32.DLL', b'MSVCRT.dll', b'NETAPI32.dll', b'ntdll.dll', b'PSAPI.DLL', b'USER32.dll', b'WS2_32.dll'],[b'RegSaveKeyA', b'BitBlt', b'LoadLibraryA', b'ExitProcess', b'GetProcAddress', b'VirtualProtect', b'exit', b'Netbios', b'atoi', b'EnumProcessModules', b'GetDC', b'WSAGetLastError']\n",
      "\n",
      "8442AE37B91F279A9F06DE4C60B286A3,b'.rsrc\\x00\\x00\\x00',0x7000,0x1000,512,[b'KERNEL32.DLL', b'MSVCRT.dll', b'USER32.dll', b'WS2_32.dll'],[b'LoadLibraryA', b'ExitProcess', b'GetProcAddress', b'VirtualProtect', b'atol', b'LoadStringA', b'send']\n",
      "\n",
      "F8437E44748D2C3FCF84019766F4E6DC,b'.rsrc\\x00\\x00\\x00',0x7000,0x1000,512,[b'KERNEL32.DLL', b'MSVCRT.dll', b'SHELL32.dll', b'USER32.dll', b'WS2_32.dll'],[b'LoadLibraryA', b'ExitProcess', b'GetProcAddress', b'VirtualProtect', b'atol', b'SHChangeNotify', b'LoadStringA', b'closesocket']\n",
      "\n",
      "KLp90_6D5C8FC4B14559F73B6136D85B94198,b'.data\\x00\\x00\\x00',0x5000,0x3d2468,1536,[b'KERNEL32.dll', b'USER32.dll', b'ADVAPI32.dll', b'SHELL32.dll', b'MSVCRT.dll', b'WININET.dll', b'WS2_32.dll'],[b'CreateFileA', b'LocalAlloc', b'Sleep', b'CreateThread', b'CreateMutexA', b'CopyFileW', b'GetFileSize', b'CreateProcessA', b'GetEnvironmentVariableW', b'GetShortPathNameW', b'GetStartupInfoA', b'GetModuleHandleA', b'ReadFile', b'LocalFree', b'GetLastError', b'GetModuleFileNameW', b'CloseHandle', b'SendMessageA', b'FindWindowExA', b'RegQueryValueExA', b'RegCloseKey', b'RegSetValueExW', b'RegOpenKeyExA', b'SHGetSpecialFolderPathW', b'ShellExecuteW', b'_controlfp', b'_except_handler3', b'__set_app_type', b'memset', b'__CxxFrameHandler', b'strlen', b'sprintf', b'memcpy', b'strcpy', b'strcat', b'_mbsnbcpy', b'_mbsnbcmp', b'atol', b'_mbscmp', b'atoi', b'fclose', b'fwrite', b'fopen', b'strstr', b'wcslen', b'wcstombs', b'setlocale', b'wcscmp', b'wcscat', b'mbstowcs', b'wcsrchr', b'wcscpy', b'getenv', b'strcmp', b'time', b'free', b'__dllonexit', b'_onexit', b'_exit', b'_XcptFilter', b'exit', b'_acmdln', b'__getmainargs', b'_initterm', b'__setusermatherr', b'_adjust_fdiv', b'__p__commode', b'__p__fmode', b'_strnicmp', b'HttpAddRequestHeadersA', b'HttpOpenRequestA', b'HttpEndRequestA', b'InternetWriteFile', b'HttpSendRequestA', b'InternetReadFile', b'HttpQueryInfoA', b'InternetAttemptConnect', b'InternetCloseHandle', b'InternetConnectA', b'InternetOpenA', b'HttpSendRequestExA', b'gethostbyname', b'inet_ntoa', b'WSAStartup', b'gethostname']\n",
      "\n",
      "VBMM9_149B7BD7218AAB4E257D28469FDDB0D,b'.rsrc\\x00\\x00\\x00',0x1f3000,0x1000,1536,[b'KERNEL32.DLL', b'MSVCRT.dll', b'SHELL32.dll', b'WININET.dll', b'WS2_32.dll'],[b'LoadLibraryA', b'ExitProcess', b'GetProcAddress', b'VirtualProtect', b'_iob', b'ShellExecuteA', b'InternetOpenA', b'inet_ntoa']\n",
      "\n",
      "99A39866A657A10949FCB6D634BB30D5,b'.rsrc\\x00\\x00\\x00',0x7000,0x1000,512,[b'KERNEL32.DLL', b'MSVCRT.dll', b'SHELL32.dll', b'USER32.dll', b'WS2_32.dll'],[b'LoadLibraryA', b'ExitProcess', b'GetProcAddress', b'VirtualProtect', b'atol', b'SHChangeNotify', b'LoadStringA', b'closesocket']\n",
      "\n",
      "FGJKJJ1_2BA0D0083976A5C1E3315413CDCFFCD2,b'.rsrc\\x00\\x00\\x00',0x7000,0x1000,512,[b'KERNEL32.DLL', b'MSVCRT.dll', b'SHELL32.dll', b'USER32.dll', b'WS2_32.dll'],[b'LoadLibraryA', b'ExitProcess', b'GetProcAddress', b'VirtualProtect', b'atol', b'SHChangeNotify', b'LoadStringA', b'closesocket']\n",
      "\n",
      "L11_1415EB8519D13328091CC5C76A624E3D,b'.rsrc\\x00\\x00\\x00',0x1f3000,0x1000,1536,[b'KERNEL32.DLL', b'MSVCRT.dll', b'SHELL32.dll', b'WININET.dll', b'WS2_32.dll'],[b'LoadLibraryA', b'ExitProcess', b'GetProcAddress', b'VirtualProtect', b'_iob', b'ShellExecuteA', b'InternetOpenA', b'inet_ntoa']\n",
      "\n",
      "VC990_468FF2C12CFFC7E5B2FE0EE6BB3B239E,b'UPX2\\x00\\x00\\x00\\x00',0xbe000,0x1000,1024,[b'ADVAPI32.dll', b'GDI32.dll', b'KERNEL32.DLL', b'MSVCRT.dll', b'NETAPI32.dll', b'ntdll.dll', b'PSAPI.DLL', b'USER32.dll', b'WS2_32.dll'],[b'RegSaveKeyA', b'BitBlt', b'LoadLibraryA', b'ExitProcess', b'GetProcAddress', b'VirtualProtect', b'exit', b'Netbios', b'atoi', b'EnumProcessModules', b'GetDC', b'WSAGetLastError']\n",
      "\n",
      "A316D5AECA269CA865077E7FFF356E7D,b'.rsrc\\x00\\x00\\x00',0x7000,0x1000,512,[b'KERNEL32.DLL', b'MSVCRT.dll', b'SHELL32.dll', b'USER32.dll', b'WS2_32.dll'],[b'LoadLibraryA', b'ExitProcess', b'GetProcAddress', b'VirtualProtect', b'atol', b'SHChangeNotify', b'LoadStringA', b'closesocket']\n",
      "\n",
      "FGTR43_EF8E0FB20E7228C7492CCDC59D87C690,b'.rsrc\\x00\\x00\\x00',0xa8000,0x1000,2048,[b'ADVAPI32.dll', b'GDI32.dll', b'KERNEL32.DLL', b'MSVCRT.dll', b'NETAPI32.dll', b'PSAPI.DLL', b'USER32.dll', b'WS2_32.dll'],[b'RegSaveKeyA', b'BitBlt', b'LoadLibraryA', b'GetProcAddress', b'VirtualProtect', b'_iob', b'Netbios', b'EnumProcessModules', b'GetDC', b'WSASetLastError']\n",
      "\n",
      "NBV_8B75BCBFF174C25A0161F30758509A44,b'.rsrc\\x00\\x00\\x00',0x7000,0x1000,512,[b'KERNEL32.DLL', b'MSVCRT.dll', b'SHELL32.dll', b'USER32.dll', b'WS2_32.dll'],[b'LoadLibraryA', b'ExitProcess', b'GetProcAddress', b'VirtualProtect', b'atol', b'SHChangeNotify', b'LoadStringA', b'closesocket']\n",
      "\n",
      "AAAz2E1B6940985A23E5639450F8391820655,b'UPX2\\x00\\x00\\x00\\x00',0xc5000,0x1000,1024,[b'ADVAPI32.dll', b'GDI32.dll', b'KERNEL32.DLL', b'MSVCRT.dll', b'NETAPI32.dll', b'ntdll.dll', b'USER32.dll', b'WS2_32.dll'],[b'RegSaveKeyA', b'BitBlt', b'LoadLibraryA', b'GetProcAddress', b'VirtualProtect', b'free', b'Netbios', b'atoi', b'GetDC', b'WSAGetLastError']\n",
      "\n",
      "FHHH6576C196385407B0F7F4B1B537D88983,b'.rsrc\\x00\\x00\\x00',0x7000,0x1000,512,[b'KERNEL32.DLL', b'MSVCRT.dll', b'SHELL32.dll', b'USER32.dll', b'WS2_32.dll'],[b'LoadLibraryA', b'ExitProcess', b'GetProcAddress', b'VirtualProtect', b'atol', b'SHChangeNotify', b'LoadStringA', b'closesocket']\n",
      "\n",
      "NV99_C9C9DBF388A8D81D8CFB4D3FC05F8E4,b'.data\\x00\\x00\\x00',0x5000,0x3d2468,1536,[b'KERNEL32.dll', b'USER32.dll', b'ADVAPI32.dll', b'SHELL32.dll', b'MSVCRT.dll', b'WININET.dll', b'WS2_32.dll'],[b'CreateFileA', b'LocalAlloc', b'Sleep', b'CreateThread', b'CreateMutexA', b'CopyFileW', b'GetFileSize', b'CreateProcessA', b'GetEnvironmentVariableW', b'GetShortPathNameW', b'GetStartupInfoA', b'GetModuleHandleA', b'ReadFile', b'LocalFree', b'GetLastError', b'GetModuleFileNameW', b'CloseHandle', b'SendMessageA', b'FindWindowExA', b'RegQueryValueExA', b'RegCloseKey', b'RegSetValueExW', b'RegOpenKeyExA', b'SHGetSpecialFolderPathW', b'ShellExecuteW', b'_controlfp', b'_except_handler3', b'__set_app_type', b'memset', b'__CxxFrameHandler', b'strlen', b'sprintf', b'memcpy', b'strcpy', b'strcat', b'_mbsnbcpy', b'_mbsnbcmp', b'atol', b'_mbscmp', b'atoi', b'fclose', b'fwrite', b'fopen', b'strstr', b'wcslen', b'wcstombs', b'setlocale', b'wcscmp', b'wcscat', b'mbstowcs', b'wcsrchr', b'wcscpy', b'getenv', b'strcmp', b'time', b'free', b'__dllonexit', b'_onexit', b'_exit', b'_XcptFilter', b'exit', b'_acmdln', b'__getmainargs', b'_initterm', b'__setusermatherr', b'_adjust_fdiv', b'__p__commode', b'__p__fmode', b'_strnicmp', b'HttpAddRequestHeadersA', b'HttpOpenRequestA', b'HttpEndRequestA', b'InternetWriteFile', b'HttpSendRequestA', b'InternetReadFile', b'HttpQueryInfoA', b'InternetAttemptConnect', b'InternetCloseHandle', b'InternetConnectA', b'InternetOpenA', b'HttpSendRequestExA', b'gethostbyname', b'inet_ntoa', b'WSAStartup', b'gethostname']\n",
      "\n",
      "AL65_DB05DF0498B59B42A8E493CF3C10C578,b'UPX2\\x00\\x00\\x00\\x00',0xc5000,0x1000,1024,[b'ADVAPI32.dll', b'GDI32.dll', b'KERNEL32.DLL', b'MSVCRT.dll', b'NETAPI32.dll', b'ntdll.dll', b'USER32.dll', b'WS2_32.dll'],[b'RegSaveKeyA', b'BitBlt', b'LoadLibraryA', b'GetProcAddress', b'VirtualProtect', b'free', b'Netbios', b'atoi', b'GetDC', b'WSAGetLastError']\n",
      "\n",
      "FTTR9EA3C16194CE354C244C1B74C46CD92E,b'.rsrc\\x00\\x00\\x00',0x7000,0x1000,512,[b'KERNEL32.DLL', b'MSVCRT.dll', b'USER32.dll', b'WS2_32.dll'],[b'LoadLibraryA', b'ExitProcess', b'GetProcAddress', b'VirtualProtect', b'atol', b'LoadStringA', b'send']\n",
      "\n",
      "PL98_BD8B082B7711BC980252F988BB0CA936,b'UPX2\\x00\\x00\\x00\\x00',0xc5000,0x1000,1024,[b'ADVAPI32.dll', b'GDI32.dll', b'KERNEL32.DLL', b'MSVCRT.dll', b'NETAPI32.dll', b'ntdll.dll', b'USER32.dll', b'WS2_32.dll'],[b'RegSaveKeyA', b'BitBlt', b'LoadLibraryA', b'GetProcAddress', b'VirtualProtect', b'free', b'Netbios', b'atoi', b'GetDC', b'WSAGetLastError']\n",
      "\n"
     ]
    }
   ],
   "source": [
    "with open('dataset.txt') as f:\n",
    "    lines = f.readlines()\n",
    "\n",
    "cont = 0\n",
    "for line in lines:\n",
    "    print(line)\n",
    "    # split_line = line.split(',')\n",
    "    # print(split_line)\n",
    "    if cont >= 1:\n",
    "        # section = split_line[1].split(\"'\")\n",
    "        # print(section[1])\n",
    "        temp = {\n",
    "            'filename': split_line[0],\n",
    "            'virtual_adress': int(split_line[2], 16),\n",
    "            'virtual_size': int(split_line[3], 16),\n",
    "            'size_raw_data': int(split_line[4])\n",
    "        }\n",
    "        malware.append(temp)\n",
    "    # print('************************')\n",
    "    cont += 1"
   ]
  },
  {
   "cell_type": "code",
   "execution_count": 3,
   "id": "ffb3b0d8",
   "metadata": {},
   "outputs": [
    {
     "name": "stdout",
     "output_type": "stream",
     "text": [
      "[{'filename': '1F2EB7B090018D975E6D9B40868C94CA', 'virtual_adress': 28672, 'virtual_size': 4096, 'size_raw_data': 512}, {'filename': 'B07322743778B5868475DBE66EEDAC4F', 'virtual_adress': 28672, 'virtual_size': 4096, 'size_raw_data': 512}, {'filename': 'GBV66_8F259BB36E00D124963CFA9B86F502E', 'virtual_adress': 20480, 'virtual_size': 4007048, 'size_raw_data': 1536}, {'filename': 'POL55_A4F1ECC4D25B33395196B5D51A06790', 'virtual_adress': 20480, 'virtual_size': 4007016, 'size_raw_data': 1536}, {'filename': '33DE5067A433A6EC5C328067DC18EC37', 'virtual_adress': 28672, 'virtual_size': 4096, 'size_raw_data': 512}, {'filename': 'B98hX8E8622C393D7E832D39E620EAD5D3B49', 'virtual_adress': 618496, 'virtual_size': 4096, 'size_raw_data': 512}, {'filename': 'GFT4_7DDD3D72EAD03C7518F5D47650C8572', 'virtual_adress': 4030464, 'virtual_size': 1032, 'size_raw_data': 1536}, {'filename': 'QW2_4C6BDDCCA2695D6202DF38708E14FC7E', 'virtual_adress': 688128, 'virtual_size': 4096, 'size_raw_data': 2048}, {'filename': '65018CD542145A3792BA09985734C12A', 'virtual_adress': 28672, 'virtual_size': 4096, 'size_raw_data': 512}, {'filename': 'BVJ2D9FBF759F527AF373E34673DC3ACA462', 'virtual_adress': 28672, 'virtual_size': 4096, 'size_raw_data': 512}, {'filename': 'HJGQDD892986B2249B5214639ECC8AC0223', 'virtual_adress': 28672, 'virtual_size': 4096, 'size_raw_data': 512}, {'filename': 'RTC_7F85D7F628CE62D1D8F7B39D8940472', 'virtual_adress': 2043904, 'virtual_size': 4096, 'size_raw_data': 1536}, {'filename': '650A6FCA433EE243391E4B4C11F09438', 'virtual_adress': 28672, 'virtual_size': 4096, 'size_raw_data': 512}, {'filename': 'DS22_A670D13D4D014169C4080328B8FEB86', 'virtual_adress': 20480, 'virtual_size': 4007016, 'size_raw_data': 1536}, {'filename': 'JH78C0A33A1B472A8C16123FD696A5CE5EBB', 'virtual_adress': 28672, 'virtual_size': 4096, 'size_raw_data': 512}, {'filename': 'SAM_B659D71AE168E774FAAF38DB30F4A84', 'virtual_adress': 20480, 'virtual_size': 4007016, 'size_raw_data': 1536}, {'filename': '6FAA4740F99408D4D2DDDD0B09BBDEFD', 'virtual_adress': 28672, 'virtual_size': 4096, 'size_raw_data': 512}, {'filename': 'EEE99EC8AA67B05407C01094184C33D2B5A44', 'virtual_adress': 28672, 'virtual_size': 4096, 'size_raw_data': 512}, {'filename': 'JKK8CA6FE7A1315AF5AFEAC2961460A80569', 'virtual_adress': 28672, 'virtual_size': 4096, 'size_raw_data': 512}, {'filename': '785003A405BC7A4EBCBB21DDB757BF3F', 'virtual_adress': 28672, 'virtual_size': 4096, 'size_raw_data': 512}, {'filename': 'F6655E39465C2FF5B016980D918EA028', 'virtual_adress': 28672, 'virtual_size': 4096, 'size_raw_data': 512}, {'filename': 'K99_C3A9A7B026BFE0E55FF219FD6AA7D94', 'virtual_adress': 20480, 'virtual_size': 4007016, 'size_raw_data': 1536}, {'filename': 'TG78Z__727A6800991EEAD454E53E8AF164A99C', 'virtual_adress': 778240, 'virtual_size': 4096, 'size_raw_data': 1024}, {'filename': '8442AE37B91F279A9F06DE4C60B286A3', 'virtual_adress': 28672, 'virtual_size': 4096, 'size_raw_data': 512}, {'filename': 'F8437E44748D2C3FCF84019766F4E6DC', 'virtual_adress': 28672, 'virtual_size': 4096, 'size_raw_data': 512}, {'filename': 'KLp90_6D5C8FC4B14559F73B6136D85B94198', 'virtual_adress': 20480, 'virtual_size': 4007016, 'size_raw_data': 1536}, {'filename': 'VBMM9_149B7BD7218AAB4E257D28469FDDB0D', 'virtual_adress': 2043904, 'virtual_size': 4096, 'size_raw_data': 1536}, {'filename': '99A39866A657A10949FCB6D634BB30D5', 'virtual_adress': 28672, 'virtual_size': 4096, 'size_raw_data': 512}, {'filename': 'FGJKJJ1_2BA0D0083976A5C1E3315413CDCFFCD2', 'virtual_adress': 28672, 'virtual_size': 4096, 'size_raw_data': 512}, {'filename': 'L11_1415EB8519D13328091CC5C76A624E3D', 'virtual_adress': 2043904, 'virtual_size': 4096, 'size_raw_data': 1536}, {'filename': 'VC990_468FF2C12CFFC7E5B2FE0EE6BB3B239E', 'virtual_adress': 778240, 'virtual_size': 4096, 'size_raw_data': 1024}, {'filename': 'A316D5AECA269CA865077E7FFF356E7D', 'virtual_adress': 28672, 'virtual_size': 4096, 'size_raw_data': 512}, {'filename': 'FGTR43_EF8E0FB20E7228C7492CCDC59D87C690', 'virtual_adress': 688128, 'virtual_size': 4096, 'size_raw_data': 2048}, {'filename': 'NBV_8B75BCBFF174C25A0161F30758509A44', 'virtual_adress': 28672, 'virtual_size': 4096, 'size_raw_data': 512}, {'filename': 'AAAz2E1B6940985A23E5639450F8391820655', 'virtual_adress': 806912, 'virtual_size': 4096, 'size_raw_data': 1024}, {'filename': 'FHHH6576C196385407B0F7F4B1B537D88983', 'virtual_adress': 28672, 'virtual_size': 4096, 'size_raw_data': 512}, {'filename': 'NV99_C9C9DBF388A8D81D8CFB4D3FC05F8E4', 'virtual_adress': 20480, 'virtual_size': 4007016, 'size_raw_data': 1536}, {'filename': 'AL65_DB05DF0498B59B42A8E493CF3C10C578', 'virtual_adress': 806912, 'virtual_size': 4096, 'size_raw_data': 1024}, {'filename': 'FTTR9EA3C16194CE354C244C1B74C46CD92E', 'virtual_adress': 28672, 'virtual_size': 4096, 'size_raw_data': 512}, {'filename': 'PL98_BD8B082B7711BC980252F988BB0CA936', 'virtual_adress': 806912, 'virtual_size': 4096, 'size_raw_data': 1024}]\n"
     ]
    }
   ],
   "source": [
    "print(malware)"
   ]
  },
  {
   "cell_type": "code",
   "execution_count": null,
   "id": "6ea5321c",
   "metadata": {},
   "outputs": [],
   "source": []
  }
 ],
 "metadata": {
  "kernelspec": {
   "display_name": "Python 3 (ipykernel)",
   "language": "python",
   "name": "python3"
  },
  "language_info": {
   "codemirror_mode": {
    "name": "ipython",
    "version": 3
   },
   "file_extension": ".py",
   "mimetype": "text/x-python",
   "name": "python",
   "nbconvert_exporter": "python",
   "pygments_lexer": "ipython3",
   "version": "3.10.0"
  }
 },
 "nbformat": 4,
 "nbformat_minor": 5
}
