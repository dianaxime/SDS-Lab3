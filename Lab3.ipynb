{
 "cells": [
  {
   "cell_type": "markdown",
   "id": "ada3e444",
   "metadata": {},
   "source": [
    "# K-means"
   ]
  },
  {
   "cell_type": "markdown",
   "id": "403632de",
   "metadata": {},
   "source": [
    "Maria Jose Castro Lemus, 181202\n",
    "\n",
    "Diana Ximena de Leon Figueroa, 18607"
   ]
  },
  {
   "cell_type": "code",
   "execution_count": 1,
   "id": "6ea5321c",
   "metadata": {},
   "outputs": [],
   "source": [
    "import pandas as pd\n",
    "import numpy as np\n",
    "import matplotlib.pyplot as plt\n",
    "from sklearn.datasets import make_blobs\n",
    "from sklearn.cluster import KMeans\n",
    "from sklearn.preprocessing import StandardScaler\n",
    "from sklearn.metrics import silhouette_score\n",
    "from sklearn.cluster import DBSCAN\n",
    "\n",
    "plt.rcParams[\"figure.figsize\"] = (8, 5)"
   ]
  },
  {
   "cell_type": "code",
   "execution_count": 2,
   "id": "e71d89a6",
   "metadata": {},
   "outputs": [],
   "source": [
    "df = pd.read_csv('dataset.csv')"
   ]
  },
  {
   "cell_type": "code",
   "execution_count": 3,
   "id": "f3373707",
   "metadata": {},
   "outputs": [
    {
     "data": {
      "text/html": [
       "<div>\n",
       "<style scoped>\n",
       "    .dataframe tbody tr th:only-of-type {\n",
       "        vertical-align: middle;\n",
       "    }\n",
       "\n",
       "    .dataframe tbody tr th {\n",
       "        vertical-align: top;\n",
       "    }\n",
       "\n",
       "    .dataframe thead th {\n",
       "        text-align: right;\n",
       "    }\n",
       "</style>\n",
       "<table border=\"1\" class=\"dataframe\">\n",
       "  <thead>\n",
       "    <tr style=\"text-align: right;\">\n",
       "      <th></th>\n",
       "      <th>.text</th>\n",
       "      <th>.text_virtual_address</th>\n",
       "      <th>.text_virtual_size</th>\n",
       "      <th>.text_size_raw_data</th>\n",
       "      <th>.rdata</th>\n",
       "      <th>.rdata_virtual_address</th>\n",
       "      <th>.rdata_virtual_size</th>\n",
       "      <th>.rdata_size_raw_data</th>\n",
       "      <th>.data</th>\n",
       "      <th>.data_virtual_address</th>\n",
       "      <th>...</th>\n",
       "      <th>b'_aullshr'</th>\n",
       "      <th>b'_allmul'</th>\n",
       "      <th>b'_allshl'</th>\n",
       "      <th>b'_alldiv'</th>\n",
       "      <th>b'_chkstk'</th>\n",
       "      <th>b'_aulldiv'</th>\n",
       "      <th>b'RtlUnwind'</th>\n",
       "      <th>b'listen'</th>\n",
       "      <th>b'bind'</th>\n",
       "      <th>b'accept'</th>\n",
       "    </tr>\n",
       "  </thead>\n",
       "  <tbody>\n",
       "    <tr>\n",
       "      <th>0</th>\n",
       "      <td>1</td>\n",
       "      <td>4096</td>\n",
       "      <td>3382</td>\n",
       "      <td>3584</td>\n",
       "      <td>1</td>\n",
       "      <td>8192</td>\n",
       "      <td>1308</td>\n",
       "      <td>1536</td>\n",
       "      <td>1</td>\n",
       "      <td>12288</td>\n",
       "      <td>...</td>\n",
       "      <td>NaN</td>\n",
       "      <td>NaN</td>\n",
       "      <td>NaN</td>\n",
       "      <td>NaN</td>\n",
       "      <td>NaN</td>\n",
       "      <td>NaN</td>\n",
       "      <td>NaN</td>\n",
       "      <td>NaN</td>\n",
       "      <td>NaN</td>\n",
       "      <td>NaN</td>\n",
       "    </tr>\n",
       "    <tr>\n",
       "      <th>1</th>\n",
       "      <td>1</td>\n",
       "      <td>4096</td>\n",
       "      <td>3382</td>\n",
       "      <td>3584</td>\n",
       "      <td>1</td>\n",
       "      <td>8192</td>\n",
       "      <td>1308</td>\n",
       "      <td>1536</td>\n",
       "      <td>1</td>\n",
       "      <td>12288</td>\n",
       "      <td>...</td>\n",
       "      <td>NaN</td>\n",
       "      <td>NaN</td>\n",
       "      <td>NaN</td>\n",
       "      <td>NaN</td>\n",
       "      <td>NaN</td>\n",
       "      <td>NaN</td>\n",
       "      <td>NaN</td>\n",
       "      <td>NaN</td>\n",
       "      <td>NaN</td>\n",
       "      <td>NaN</td>\n",
       "    </tr>\n",
       "    <tr>\n",
       "      <th>2</th>\n",
       "      <td>1</td>\n",
       "      <td>4096</td>\n",
       "      <td>9690</td>\n",
       "      <td>9728</td>\n",
       "      <td>1</td>\n",
       "      <td>16384</td>\n",
       "      <td>2596</td>\n",
       "      <td>3072</td>\n",
       "      <td>1</td>\n",
       "      <td>20480</td>\n",
       "      <td>...</td>\n",
       "      <td>NaN</td>\n",
       "      <td>NaN</td>\n",
       "      <td>NaN</td>\n",
       "      <td>NaN</td>\n",
       "      <td>NaN</td>\n",
       "      <td>NaN</td>\n",
       "      <td>NaN</td>\n",
       "      <td>NaN</td>\n",
       "      <td>NaN</td>\n",
       "      <td>NaN</td>\n",
       "    </tr>\n",
       "    <tr>\n",
       "      <th>3</th>\n",
       "      <td>1</td>\n",
       "      <td>4096</td>\n",
       "      <td>9690</td>\n",
       "      <td>9728</td>\n",
       "      <td>1</td>\n",
       "      <td>16384</td>\n",
       "      <td>2596</td>\n",
       "      <td>3072</td>\n",
       "      <td>1</td>\n",
       "      <td>20480</td>\n",
       "      <td>...</td>\n",
       "      <td>NaN</td>\n",
       "      <td>NaN</td>\n",
       "      <td>NaN</td>\n",
       "      <td>NaN</td>\n",
       "      <td>NaN</td>\n",
       "      <td>NaN</td>\n",
       "      <td>NaN</td>\n",
       "      <td>NaN</td>\n",
       "      <td>NaN</td>\n",
       "      <td>NaN</td>\n",
       "    </tr>\n",
       "    <tr>\n",
       "      <th>4</th>\n",
       "      <td>1</td>\n",
       "      <td>4096</td>\n",
       "      <td>3702</td>\n",
       "      <td>4096</td>\n",
       "      <td>1</td>\n",
       "      <td>8192</td>\n",
       "      <td>1662</td>\n",
       "      <td>2048</td>\n",
       "      <td>1</td>\n",
       "      <td>12288</td>\n",
       "      <td>...</td>\n",
       "      <td>NaN</td>\n",
       "      <td>NaN</td>\n",
       "      <td>NaN</td>\n",
       "      <td>NaN</td>\n",
       "      <td>NaN</td>\n",
       "      <td>NaN</td>\n",
       "      <td>NaN</td>\n",
       "      <td>NaN</td>\n",
       "      <td>NaN</td>\n",
       "      <td>NaN</td>\n",
       "    </tr>\n",
       "  </tbody>\n",
       "</table>\n",
       "<p>5 rows × 378 columns</p>\n",
       "</div>"
      ],
      "text/plain": [
       "   .text  .text_virtual_address  .text_virtual_size  .text_size_raw_data  \\\n",
       "0      1                   4096                3382                 3584   \n",
       "1      1                   4096                3382                 3584   \n",
       "2      1                   4096                9690                 9728   \n",
       "3      1                   4096                9690                 9728   \n",
       "4      1                   4096                3702                 4096   \n",
       "\n",
       "   .rdata  .rdata_virtual_address  .rdata_virtual_size  .rdata_size_raw_data  \\\n",
       "0       1                    8192                 1308                  1536   \n",
       "1       1                    8192                 1308                  1536   \n",
       "2       1                   16384                 2596                  3072   \n",
       "3       1                   16384                 2596                  3072   \n",
       "4       1                    8192                 1662                  2048   \n",
       "\n",
       "   .data  .data_virtual_address  ...  b'_aullshr'  b'_allmul'  b'_allshl'  \\\n",
       "0      1                  12288  ...          NaN         NaN         NaN   \n",
       "1      1                  12288  ...          NaN         NaN         NaN   \n",
       "2      1                  20480  ...          NaN         NaN         NaN   \n",
       "3      1                  20480  ...          NaN         NaN         NaN   \n",
       "4      1                  12288  ...          NaN         NaN         NaN   \n",
       "\n",
       "   b'_alldiv'  b'_chkstk'  b'_aulldiv'  b'RtlUnwind'  b'listen'  b'bind'  \\\n",
       "0         NaN         NaN          NaN           NaN        NaN      NaN   \n",
       "1         NaN         NaN          NaN           NaN        NaN      NaN   \n",
       "2         NaN         NaN          NaN           NaN        NaN      NaN   \n",
       "3         NaN         NaN          NaN           NaN        NaN      NaN   \n",
       "4         NaN         NaN          NaN           NaN        NaN      NaN   \n",
       "\n",
       "   b'accept'  \n",
       "0        NaN  \n",
       "1        NaN  \n",
       "2        NaN  \n",
       "3        NaN  \n",
       "4        NaN  \n",
       "\n",
       "[5 rows x 378 columns]"
      ]
     },
     "execution_count": 3,
     "metadata": {},
     "output_type": "execute_result"
    }
   ],
   "source": [
    "df.head()"
   ]
  },
  {
   "cell_type": "code",
   "execution_count": 4,
   "id": "7e4fef07",
   "metadata": {},
   "outputs": [
    {
     "name": "stdout",
     "output_type": "stream",
     "text": [
      "<class 'pandas.core.frame.DataFrame'>\n",
      "RangeIndex: 40 entries, 0 to 39\n",
      "Columns: 378 entries, .text to b'accept'\n",
      "dtypes: float64(356), int64(22)\n",
      "memory usage: 118.2 KB\n"
     ]
    }
   ],
   "source": [
    "df.info()"
   ]
  },
  {
   "cell_type": "code",
   "execution_count": 5,
   "id": "6995d48e",
   "metadata": {},
   "outputs": [],
   "source": [
    "df.fillna(value = 0, inplace = True)"
   ]
  },
  {
   "cell_type": "code",
   "execution_count": 6,
   "id": "720ddc58",
   "metadata": {},
   "outputs": [],
   "source": [
    "for column in df.columns.values:\n",
    "    df[column] = df[column].astype(int)\n",
    "    if len(df[column].unique()) == 2:\n",
    "        df[column] = df[column].astype('category')"
   ]
  },
  {
   "cell_type": "code",
   "execution_count": 7,
   "id": "1336b6a0",
   "metadata": {},
   "outputs": [
    {
     "data": {
      "text/plain": [
       ".text                       int32\n",
       ".text_virtual_address       int32\n",
       ".text_virtual_size          int32\n",
       ".text_size_raw_data         int32\n",
       ".rdata                      int32\n",
       "                           ...   \n",
       "b'_aulldiv'              category\n",
       "b'RtlUnwind'             category\n",
       "b'listen'                category\n",
       "b'bind'                  category\n",
       "b'accept'                category\n",
       "Length: 378, dtype: object"
      ]
     },
     "execution_count": 7,
     "metadata": {},
     "output_type": "execute_result"
    }
   ],
   "source": [
    "df.dtypes"
   ]
  },
  {
   "cell_type": "code",
   "execution_count": 8,
   "id": "9ba51062",
   "metadata": {},
   "outputs": [
    {
     "data": {
      "text/html": [
       "<div>\n",
       "<style scoped>\n",
       "    .dataframe tbody tr th:only-of-type {\n",
       "        vertical-align: middle;\n",
       "    }\n",
       "\n",
       "    .dataframe tbody tr th {\n",
       "        vertical-align: top;\n",
       "    }\n",
       "\n",
       "    .dataframe thead th {\n",
       "        text-align: right;\n",
       "    }\n",
       "</style>\n",
       "<table border=\"1\" class=\"dataframe\">\n",
       "  <thead>\n",
       "    <tr style=\"text-align: right;\">\n",
       "      <th></th>\n",
       "      <th>.text</th>\n",
       "      <th>.text_virtual_address</th>\n",
       "      <th>.text_virtual_size</th>\n",
       "      <th>.text_size_raw_data</th>\n",
       "      <th>.rdata</th>\n",
       "      <th>.rdata_virtual_address</th>\n",
       "      <th>.rdata_virtual_size</th>\n",
       "      <th>.rdata_size_raw_data</th>\n",
       "      <th>.data</th>\n",
       "      <th>.data_virtual_address</th>\n",
       "      <th>...</th>\n",
       "      <th>b'_aullshr'</th>\n",
       "      <th>b'_allmul'</th>\n",
       "      <th>b'_allshl'</th>\n",
       "      <th>b'_alldiv'</th>\n",
       "      <th>b'_chkstk'</th>\n",
       "      <th>b'_aulldiv'</th>\n",
       "      <th>b'RtlUnwind'</th>\n",
       "      <th>b'listen'</th>\n",
       "      <th>b'bind'</th>\n",
       "      <th>b'accept'</th>\n",
       "    </tr>\n",
       "  </thead>\n",
       "  <tbody>\n",
       "    <tr>\n",
       "      <th>0</th>\n",
       "      <td>1</td>\n",
       "      <td>4096</td>\n",
       "      <td>3382</td>\n",
       "      <td>3584</td>\n",
       "      <td>1</td>\n",
       "      <td>8192</td>\n",
       "      <td>1308</td>\n",
       "      <td>1536</td>\n",
       "      <td>1</td>\n",
       "      <td>12288</td>\n",
       "      <td>...</td>\n",
       "      <td>0</td>\n",
       "      <td>0</td>\n",
       "      <td>0</td>\n",
       "      <td>0</td>\n",
       "      <td>0</td>\n",
       "      <td>0</td>\n",
       "      <td>0</td>\n",
       "      <td>0</td>\n",
       "      <td>0</td>\n",
       "      <td>0</td>\n",
       "    </tr>\n",
       "    <tr>\n",
       "      <th>1</th>\n",
       "      <td>1</td>\n",
       "      <td>4096</td>\n",
       "      <td>3382</td>\n",
       "      <td>3584</td>\n",
       "      <td>1</td>\n",
       "      <td>8192</td>\n",
       "      <td>1308</td>\n",
       "      <td>1536</td>\n",
       "      <td>1</td>\n",
       "      <td>12288</td>\n",
       "      <td>...</td>\n",
       "      <td>0</td>\n",
       "      <td>0</td>\n",
       "      <td>0</td>\n",
       "      <td>0</td>\n",
       "      <td>0</td>\n",
       "      <td>0</td>\n",
       "      <td>0</td>\n",
       "      <td>0</td>\n",
       "      <td>0</td>\n",
       "      <td>0</td>\n",
       "    </tr>\n",
       "    <tr>\n",
       "      <th>2</th>\n",
       "      <td>1</td>\n",
       "      <td>4096</td>\n",
       "      <td>9690</td>\n",
       "      <td>9728</td>\n",
       "      <td>1</td>\n",
       "      <td>16384</td>\n",
       "      <td>2596</td>\n",
       "      <td>3072</td>\n",
       "      <td>1</td>\n",
       "      <td>20480</td>\n",
       "      <td>...</td>\n",
       "      <td>0</td>\n",
       "      <td>0</td>\n",
       "      <td>0</td>\n",
       "      <td>0</td>\n",
       "      <td>0</td>\n",
       "      <td>0</td>\n",
       "      <td>0</td>\n",
       "      <td>0</td>\n",
       "      <td>0</td>\n",
       "      <td>0</td>\n",
       "    </tr>\n",
       "    <tr>\n",
       "      <th>3</th>\n",
       "      <td>1</td>\n",
       "      <td>4096</td>\n",
       "      <td>9690</td>\n",
       "      <td>9728</td>\n",
       "      <td>1</td>\n",
       "      <td>16384</td>\n",
       "      <td>2596</td>\n",
       "      <td>3072</td>\n",
       "      <td>1</td>\n",
       "      <td>20480</td>\n",
       "      <td>...</td>\n",
       "      <td>0</td>\n",
       "      <td>0</td>\n",
       "      <td>0</td>\n",
       "      <td>0</td>\n",
       "      <td>0</td>\n",
       "      <td>0</td>\n",
       "      <td>0</td>\n",
       "      <td>0</td>\n",
       "      <td>0</td>\n",
       "      <td>0</td>\n",
       "    </tr>\n",
       "    <tr>\n",
       "      <th>4</th>\n",
       "      <td>1</td>\n",
       "      <td>4096</td>\n",
       "      <td>3702</td>\n",
       "      <td>4096</td>\n",
       "      <td>1</td>\n",
       "      <td>8192</td>\n",
       "      <td>1662</td>\n",
       "      <td>2048</td>\n",
       "      <td>1</td>\n",
       "      <td>12288</td>\n",
       "      <td>...</td>\n",
       "      <td>0</td>\n",
       "      <td>0</td>\n",
       "      <td>0</td>\n",
       "      <td>0</td>\n",
       "      <td>0</td>\n",
       "      <td>0</td>\n",
       "      <td>0</td>\n",
       "      <td>0</td>\n",
       "      <td>0</td>\n",
       "      <td>0</td>\n",
       "    </tr>\n",
       "  </tbody>\n",
       "</table>\n",
       "<p>5 rows × 378 columns</p>\n",
       "</div>"
      ],
      "text/plain": [
       "   .text  .text_virtual_address  .text_virtual_size  .text_size_raw_data  \\\n",
       "0      1                   4096                3382                 3584   \n",
       "1      1                   4096                3382                 3584   \n",
       "2      1                   4096                9690                 9728   \n",
       "3      1                   4096                9690                 9728   \n",
       "4      1                   4096                3702                 4096   \n",
       "\n",
       "   .rdata  .rdata_virtual_address  .rdata_virtual_size  .rdata_size_raw_data  \\\n",
       "0       1                    8192                 1308                  1536   \n",
       "1       1                    8192                 1308                  1536   \n",
       "2       1                   16384                 2596                  3072   \n",
       "3       1                   16384                 2596                  3072   \n",
       "4       1                    8192                 1662                  2048   \n",
       "\n",
       "   .data  .data_virtual_address  ...  b'_aullshr'  b'_allmul' b'_allshl'  \\\n",
       "0      1                  12288  ...            0           0          0   \n",
       "1      1                  12288  ...            0           0          0   \n",
       "2      1                  20480  ...            0           0          0   \n",
       "3      1                  20480  ...            0           0          0   \n",
       "4      1                  12288  ...            0           0          0   \n",
       "\n",
       "   b'_alldiv'  b'_chkstk'  b'_aulldiv' b'RtlUnwind'  b'listen' b'bind'  \\\n",
       "0           0           0            0            0          0       0   \n",
       "1           0           0            0            0          0       0   \n",
       "2           0           0            0            0          0       0   \n",
       "3           0           0            0            0          0       0   \n",
       "4           0           0            0            0          0       0   \n",
       "\n",
       "  b'accept'  \n",
       "0         0  \n",
       "1         0  \n",
       "2         0  \n",
       "3         0  \n",
       "4         0  \n",
       "\n",
       "[5 rows x 378 columns]"
      ]
     },
     "execution_count": 8,
     "metadata": {},
     "output_type": "execute_result"
    }
   ],
   "source": [
    "df.head()"
   ]
  },
  {
   "cell_type": "code",
   "execution_count": 9,
   "id": "69aae6dd",
   "metadata": {},
   "outputs": [],
   "source": [
    "scaler = StandardScaler()\n",
    "X = scaler.fit_transform(df)"
   ]
  },
  {
   "cell_type": "code",
   "execution_count": 10,
   "id": "f897145c",
   "metadata": {},
   "outputs": [],
   "source": [
    "sil = []\n",
    "kmax = 15\n",
    "\n",
    "for k in range (2, kmax + 1):\n",
    "  kmeans = KMeans(\n",
    "        init = \"random\",\n",
    "        n_clusters = k,\n",
    "        n_init = 1,\n",
    "        max_iter = 200,\n",
    "        random_state = 123\n",
    "    ).fit(X)\n",
    "  etiquetas = kmeans.labels_\n",
    "  sil.append(silhouette_score(X, etiquetas, metric = 'euclidean'))"
   ]
  },
  {
   "cell_type": "code",
   "execution_count": 11,
   "id": "9f8d6188",
   "metadata": {},
   "outputs": [
    {
     "name": "stdout",
     "output_type": "stream",
     "text": [
      "[0.38858640286355345, 0.6753072234464613, 0.8020409121675096, 0.8697623588374155, 0.8516849521772372, 0.770675658902789, 0.8269255764781803, 0.8418227458221897, 0.8168228167687127, 0.7515295457851684, 0.8591896002485548, 0.9221297923141453, 0.8730834582869076, 0.848091947139574]\n"
     ]
    }
   ],
   "source": [
    "print(sil)"
   ]
  },
  {
   "cell_type": "code",
   "execution_count": 12,
   "id": "7612e7e2",
   "metadata": {},
   "outputs": [
    {
     "data": {
      "image/png": "[encoded data removed]",
      "text/plain": [
       "<Figure size 576x360 with 1 Axes>"
      ]
     },
     "metadata": {
      "needs_background": "light"
     },
     "output_type": "display_data"
    }
   ],
   "source": [
    "k = list(range(14))\n",
    "plt.scatter(k, sil)\n",
    "plt.title('Coeficiente de Silhouette')\n",
    "plt.xticks(k, k)\n",
    "plt.show()"
   ]
  },
  {
   "cell_type": "code",
   "execution_count": 13,
   "id": "23322c18",
   "metadata": {},
   "outputs": [
    {
     "data": {
      "image/png": "[encoded data removed]",
      "text/plain": [
       "<Figure size 576x360 with 1 Axes>"
      ]
     },
     "metadata": {
      "needs_background": "light"
     },
     "output_type": "display_data"
    }
   ],
   "source": [
    "Nc = range(1, 20)\n",
    "kmeans = [KMeans(n_clusters=i) for i in Nc]\n",
    "score = [kmeans[i].fit(X).score(X) for i in range(len(kmeans))]\n",
    "plt.plot(Nc,score)\n",
    "plt.xlabel('Number of Clusters')\n",
    "plt.ylabel('Score')\n",
    "plt.title('Elbow Curve')\n",
    "plt.xticks(Nc, Nc)\n",
    "plt.show()"
   ]
  },
  {
   "cell_type": "code",
   "execution_count": 14,
   "id": "717f2eb0",
   "metadata": {},
   "outputs": [],
   "source": [
    "clusters = DBSCAN(eps = 0.005, min_samples = 2).fit(X)"
   ]
  },
  {
   "cell_type": "code",
   "execution_count": 15,
   "id": "99498878",
   "metadata": {},
   "outputs": [
    {
     "data": {
      "text/plain": [
       "array([ 0,  0,  1,  1,  2, -1, -1,  3,  4,  5,  4,  6,  4,  1,  4,  1,  5,\n",
       "        7,  4,  5,  0,  1,  8, -1,  5,  1,  6,  5,  5,  6,  8,  5,  3,  4,\n",
       "        9,  2,  1,  9,  7,  9], dtype=int64)"
      ]
     },
     "execution_count": 15,
     "metadata": {},
     "output_type": "execute_result"
    }
   ],
   "source": [
    "clusters.labels_"
   ]
  },
  {
   "cell_type": "markdown",
   "id": "aedb4a63",
   "metadata": {},
   "source": [
    "* ¿Para qué número de clústeres se obtiene el coeficiente de sillhouete más alto? 11 clústeres \n",
    "* ¿Coincide con el método del codo? Es bastante similar, en la gráfica del método de codo se alcanza a observar que el número ideal está entre 9 y 10 clústeres\n",
    "* ¿Cuántas familias existen entre los ejemplares de malware proporcionados? Se obtuvieron 10 familias, y tres de los malware no se encontraban entre ninguna de esas familias"
   ]
  },
  {
   "cell_type": "code",
   "execution_count": null,
   "id": "675f9610",
   "metadata": {},
   "outputs": [],
   "source": []
  }
 ],
 "metadata": {
  "kernelspec": {
   "display_name": "Python 3 (ipykernel)",
   "language": "python",
   "name": "python3"
  },
  "language_info": {
   "codemirror_mode": {
    "name": "ipython",
    "version": 3
   },
   "file_extension": ".py",
   "mimetype": "text/x-python",
   "name": "python",
   "nbconvert_exporter": "python",
   "pygments_lexer": "ipython3",
   "version": "3.10.0"
  }
 },
 "nbformat": 4,
 "nbformat_minor": 5
}
